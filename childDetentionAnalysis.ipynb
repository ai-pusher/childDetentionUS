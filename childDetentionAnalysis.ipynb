{
 "cells": [
  {
   "cell_type": "markdown",
   "metadata": {},
   "source": [
    "# Child Detention in US Customs and Bordern Protection - Complete Statistical Analysis and Visualization"
   ]
  },
  {
   "cell_type": "code",
   "execution_count": 3,
   "metadata": {},
   "outputs": [],
   "source": [
    "import pandas as pd\n",
    "import numpy as np\n",
    "import matplotlib.pyplot as plt\n",
    "import seaborn as sns"
   ]
  },
  {
   "cell_type": "code",
   "execution_count": 4,
   "metadata": {},
   "outputs": [],
   "source": [
    "#import warnings\n",
    "#warnings.filterwarnings(\"ignore\")"
   ]
  },
  {
   "cell_type": "markdown",
   "metadata": {},
   "source": [
    "Data from US Customs and Border Protection obtained and published by The Marshall Project and used in 500,000 Kids, 30 Million Hours: Trump’s Vast Expansion of Child Detention.\n",
    "\n",
    "Link: https://data.world/government/us-customs-and-border-protection-child-detentions-2017-20?utm_campaign=data_digest&utm_medium=email&_hsmi=103587352&_hsenc=p2ANqtz-9WDVm7TQGGYyteRLkjCGPKTJ7qUCTdkybTOtA-4L1IgScvDTwUa9dNpsxauSK0ZcYUuzLXHc3sFlqHHg27AaSs9DQB2g&utm_content=103587352&utm_source=hs_email"
   ]
  },
  {
   "cell_type": "code",
   "execution_count": 5,
   "metadata": {},
   "outputs": [],
   "source": [
    "df = pd.read_csv('../../data/cbp_foia_response-oct_2020.csv', low_memory=False)"
   ]
  },
  {
   "cell_type": "code",
   "execution_count": 6,
   "metadata": {},
   "outputs": [
    {
     "data": {
      "text/html": [
       "<div>\n",
       "<style scoped>\n",
       "    .dataframe tbody tr th:only-of-type {\n",
       "        vertical-align: middle;\n",
       "    }\n",
       "\n",
       "    .dataframe tbody tr th {\n",
       "        vertical-align: top;\n",
       "    }\n",
       "\n",
       "    .dataframe thead th {\n",
       "        text-align: right;\n",
       "    }\n",
       "</style>\n",
       "<table border=\"1\" class=\"dataframe\">\n",
       "  <thead>\n",
       "    <tr style=\"text-align: right;\">\n",
       "      <th></th>\n",
       "      <th>date_in</th>\n",
       "      <th>date_out</th>\n",
       "      <th>app_date</th>\n",
       "      <th>hours_in_custody</th>\n",
       "      <th>age_group</th>\n",
       "      <th>gender</th>\n",
       "      <th>citizenship</th>\n",
       "      <th>border</th>\n",
       "      <th>sector</th>\n",
       "      <th>field_office</th>\n",
       "      <th>source</th>\n",
       "    </tr>\n",
       "  </thead>\n",
       "  <tbody>\n",
       "    <tr>\n",
       "      <th>0</th>\n",
       "      <td>2017-01-20 00:10:00</td>\n",
       "      <td>2017-01-20 10:08:00</td>\n",
       "      <td>NaN</td>\n",
       "      <td>9.950000</td>\n",
       "      <td>6-8 years</td>\n",
       "      <td>Female</td>\n",
       "      <td>EL SALVADOR</td>\n",
       "      <td>SBO</td>\n",
       "      <td>(b)(7)(E )</td>\n",
       "      <td>NaN</td>\n",
       "      <td>BP</td>\n",
       "    </tr>\n",
       "    <tr>\n",
       "      <th>1</th>\n",
       "      <td>2017-01-20 00:15:00</td>\n",
       "      <td>2017-01-24 17:30:00</td>\n",
       "      <td>NaN</td>\n",
       "      <td>113.233333</td>\n",
       "      <td>3-5 years</td>\n",
       "      <td>Female</td>\n",
       "      <td>GUATEMALA</td>\n",
       "      <td>SBO</td>\n",
       "      <td>(b)(7)(E )</td>\n",
       "      <td>NaN</td>\n",
       "      <td>BP</td>\n",
       "    </tr>\n",
       "    <tr>\n",
       "      <th>2</th>\n",
       "      <td>2017-01-20 00:22:00</td>\n",
       "      <td>2017-01-24 17:47:00</td>\n",
       "      <td>NaN</td>\n",
       "      <td>113.416667</td>\n",
       "      <td>3-5 years</td>\n",
       "      <td>Female</td>\n",
       "      <td>BRAZIL</td>\n",
       "      <td>SBO</td>\n",
       "      <td>(b)(7)(E )</td>\n",
       "      <td>NaN</td>\n",
       "      <td>BP</td>\n",
       "    </tr>\n",
       "    <tr>\n",
       "      <th>3</th>\n",
       "      <td>2017-01-20 00:30:00</td>\n",
       "      <td>2017-01-21 06:35:00</td>\n",
       "      <td>NaN</td>\n",
       "      <td>30.083333</td>\n",
       "      <td>12-14 years</td>\n",
       "      <td>Male</td>\n",
       "      <td>EL SALVADOR</td>\n",
       "      <td>SBO</td>\n",
       "      <td>(b)(7)(E )</td>\n",
       "      <td>NaN</td>\n",
       "      <td>BP</td>\n",
       "    </tr>\n",
       "    <tr>\n",
       "      <th>4</th>\n",
       "      <td>2017-01-20 00:30:00</td>\n",
       "      <td>2017-01-21 13:03:00</td>\n",
       "      <td>NaN</td>\n",
       "      <td>36.533333</td>\n",
       "      <td>3-5 years</td>\n",
       "      <td>Male</td>\n",
       "      <td>HONDURAS</td>\n",
       "      <td>SBO</td>\n",
       "      <td>(b)(7)(E )</td>\n",
       "      <td>NaN</td>\n",
       "      <td>BP</td>\n",
       "    </tr>\n",
       "  </tbody>\n",
       "</table>\n",
       "</div>"
      ],
      "text/plain": [
       "               date_in             date_out app_date  hours_in_custody  \\\n",
       "0  2017-01-20 00:10:00  2017-01-20 10:08:00      NaN          9.950000   \n",
       "1  2017-01-20 00:15:00  2017-01-24 17:30:00      NaN        113.233333   \n",
       "2  2017-01-20 00:22:00  2017-01-24 17:47:00      NaN        113.416667   \n",
       "3  2017-01-20 00:30:00  2017-01-21 06:35:00      NaN         30.083333   \n",
       "4  2017-01-20 00:30:00  2017-01-21 13:03:00      NaN         36.533333   \n",
       "\n",
       "     age_group  gender  citizenship border      sector field_office source  \n",
       "0    6-8 years  Female  EL SALVADOR    SBO  (b)(7)(E )          NaN     BP  \n",
       "1    3-5 years  Female    GUATEMALA    SBO  (b)(7)(E )          NaN     BP  \n",
       "2    3-5 years  Female       BRAZIL    SBO  (b)(7)(E )          NaN     BP  \n",
       "3  12-14 years    Male  EL SALVADOR    SBO  (b)(7)(E )          NaN     BP  \n",
       "4    3-5 years    Male     HONDURAS    SBO  (b)(7)(E )          NaN     BP  "
      ]
     },
     "execution_count": 6,
     "metadata": {},
     "output_type": "execute_result"
    }
   ],
   "source": [
    "df.head()"
   ]
  },
  {
   "cell_type": "code",
   "execution_count": 7,
   "metadata": {},
   "outputs": [
    {
     "data": {
      "text/plain": [
       "(583808, 11)"
      ]
     },
     "execution_count": 7,
     "metadata": {},
     "output_type": "execute_result"
    }
   ],
   "source": [
    "df.shape"
   ]
  },
  {
   "cell_type": "code",
   "execution_count": 8,
   "metadata": {},
   "outputs": [
    {
     "data": {
      "text/plain": [
       "date_in                  3\n",
       "date_out               755\n",
       "app_date            488818\n",
       "hours_in_custody       715\n",
       "age_group               21\n",
       "gender                   6\n",
       "citizenship              0\n",
       "border               94990\n",
       "sector               94990\n",
       "field_office        488818\n",
       "source                   0\n",
       "dtype: int64"
      ]
     },
     "execution_count": 8,
     "metadata": {},
     "output_type": "execute_result"
    }
   ],
   "source": [
    "df.isna().sum()"
   ]
  },
  {
   "cell_type": "code",
   "execution_count": 9,
   "metadata": {},
   "outputs": [
    {
     "data": {
      "text/plain": [
       "<AxesSubplot:>"
      ]
     },
     "execution_count": 9,
     "metadata": {},
     "output_type": "execute_result"
    },
    {
     "data": {
      "image/png": "[encoded data removed]",
      "text/plain": [
       "<Figure size 432x288 with 1 Axes>"
      ]
     },
     "metadata": {
      "needs_background": "light"
     },
     "output_type": "display_data"
    }
   ],
   "source": [
    "# Quick plot of percentage nan values \n",
    "percent_nan = df.isnull().sum() * 100 / len(df)\n",
    "percent_nan.sort_values(inplace =True)\n",
    "percent_nan.plot.barh(color = 'orange', x = 'Percent of NaN values')"
   ]
  },
  {
   "cell_type": "markdown",
   "metadata": {},
   "source": [
    "Lets look at all 4 of these variables"
   ]
  },
  {
   "cell_type": "code",
   "execution_count": 10,
   "metadata": {},
   "outputs": [
    {
     "name": "stdout",
     "output_type": "stream",
     "text": [
      "The unique values for field office are: \n",
      " [nan 'EL PASO' 'TUCSON' 'LAREDO' 'SAN DIEGO'] \n",
      "\n",
      "****************************************\n",
      "The value counts are:\n"
     ]
    },
    {
     "data": {
      "text/plain": [
       "LAREDO       28424\n",
       "SAN DIEGO    25259\n",
       "EL PASO      23140\n",
       "TUCSON       18167\n",
       "Name: field_office, dtype: int64"
      ]
     },
     "execution_count": 10,
     "metadata": {},
     "output_type": "execute_result"
    }
   ],
   "source": [
    "# Values and value counts for field_office\n",
    "print('The unique values for field office are: \\n', df['field_office'].unique(),'\\n')\n",
    "print('*'*40)\n",
    "print('The value counts are:')\n",
    "df.field_office.value_counts()"
   ]
  },
  {
   "cell_type": "code",
   "execution_count": 11,
   "metadata": {},
   "outputs": [
    {
     "data": {
      "text/plain": [
       "<AxesSubplot:>"
      ]
     },
     "execution_count": 11,
     "metadata": {},
     "output_type": "execute_result"
    },
    {
     "data": {
      "image/png": "[encoded data removed]",
      "text/plain": [
       "<Figure size 432x288 with 1 Axes>"
      ]
     },
     "metadata": {
      "needs_background": "light"
     },
     "output_type": "display_data"
    }
   ],
   "source": [
    "# Quick plot \n",
    "df.field_office.value_counts().plot.bar(color = 'green')"
   ]
  },
  {
   "cell_type": "code",
   "execution_count": 12,
   "metadata": {},
   "outputs": [
    {
     "data": {
      "text/html": [
       "<div>\n",
       "<style scoped>\n",
       "    .dataframe tbody tr th:only-of-type {\n",
       "        vertical-align: middle;\n",
       "    }\n",
       "\n",
       "    .dataframe tbody tr th {\n",
       "        vertical-align: top;\n",
       "    }\n",
       "\n",
       "    .dataframe thead th {\n",
       "        text-align: right;\n",
       "    }\n",
       "</style>\n",
       "<table border=\"1\" class=\"dataframe\">\n",
       "  <thead>\n",
       "    <tr style=\"text-align: right;\">\n",
       "      <th></th>\n",
       "      <th>date_in</th>\n",
       "      <th>date_out</th>\n",
       "      <th>app_date</th>\n",
       "      <th>hours_in_custody</th>\n",
       "      <th>age_group</th>\n",
       "      <th>gender</th>\n",
       "      <th>citizenship</th>\n",
       "      <th>border</th>\n",
       "      <th>sector</th>\n",
       "      <th>field_office</th>\n",
       "      <th>source</th>\n",
       "    </tr>\n",
       "  </thead>\n",
       "  <tbody>\n",
       "    <tr>\n",
       "      <th>488818</th>\n",
       "      <td>2017-01-17 14:04:00</td>\n",
       "      <td>2017-01-21 11:29:00</td>\n",
       "      <td>2017-01-20 09:32:31</td>\n",
       "      <td>93.42</td>\n",
       "      <td>3-5 years</td>\n",
       "      <td>M - MALE</td>\n",
       "      <td>GUATEMALA</td>\n",
       "      <td>NaN</td>\n",
       "      <td>NaN</td>\n",
       "      <td>EL PASO</td>\n",
       "      <td>OFO</td>\n",
       "    </tr>\n",
       "    <tr>\n",
       "      <th>488819</th>\n",
       "      <td>2017-01-17 17:33:00</td>\n",
       "      <td>2017-01-21 08:20:00</td>\n",
       "      <td>2017-01-20 08:39:48</td>\n",
       "      <td>86.78</td>\n",
       "      <td>6-8 years</td>\n",
       "      <td>M - MALE</td>\n",
       "      <td>GUATEMALA</td>\n",
       "      <td>NaN</td>\n",
       "      <td>NaN</td>\n",
       "      <td>EL PASO</td>\n",
       "      <td>OFO</td>\n",
       "    </tr>\n",
       "    <tr>\n",
       "      <th>488820</th>\n",
       "      <td>2017-01-17 17:41:00</td>\n",
       "      <td>2017-01-21 08:20:00</td>\n",
       "      <td>2017-01-20 08:41:02</td>\n",
       "      <td>86.65</td>\n",
       "      <td>6-8 years</td>\n",
       "      <td>F - FEMALE</td>\n",
       "      <td>GUATEMALA</td>\n",
       "      <td>NaN</td>\n",
       "      <td>NaN</td>\n",
       "      <td>EL PASO</td>\n",
       "      <td>OFO</td>\n",
       "    </tr>\n",
       "  </tbody>\n",
       "</table>\n",
       "</div>"
      ],
      "text/plain": [
       "                    date_in             date_out             app_date  \\\n",
       "488818  2017-01-17 14:04:00  2017-01-21 11:29:00  2017-01-20 09:32:31   \n",
       "488819  2017-01-17 17:33:00  2017-01-21 08:20:00  2017-01-20 08:39:48   \n",
       "488820  2017-01-17 17:41:00  2017-01-21 08:20:00  2017-01-20 08:41:02   \n",
       "\n",
       "        hours_in_custody  age_group      gender citizenship border sector  \\\n",
       "488818             93.42  3-5 years    M - MALE   GUATEMALA    NaN    NaN   \n",
       "488819             86.78  6-8 years    M - MALE   GUATEMALA    NaN    NaN   \n",
       "488820             86.65  6-8 years  F - FEMALE   GUATEMALA    NaN    NaN   \n",
       "\n",
       "       field_office source  \n",
       "488818      EL PASO    OFO  \n",
       "488819      EL PASO    OFO  \n",
       "488820      EL PASO    OFO  "
      ]
     },
     "execution_count": 12,
     "metadata": {},
     "output_type": "execute_result"
    }
   ],
   "source": [
    "# What does app_date look like within the df and is it not the same as date_in? (app_date = aprehension date) \n",
    "df[df['app_date'].notnull()].head(3)"
   ]
  },
  {
   "cell_type": "markdown",
   "metadata": {},
   "source": [
    "It is not. However, we will be dropping the app_date column since we will only be focusing on date_in and date_out."
   ]
  },
  {
   "cell_type": "code",
   "execution_count": 13,
   "metadata": {},
   "outputs": [
    {
     "name": "stdout",
     "output_type": "stream",
     "text": [
      "The unique values for border are: \n",
      " ['SBO' 'CBO' 'NBO' nan] \n",
      "\n",
      "****************************************\n",
      "The value counts are:\n"
     ]
    },
    {
     "data": {
      "text/plain": [
       "SBO    487991\n",
       "NBO       577\n",
       "CBO       250\n",
       "Name: border, dtype: int64"
      ]
     },
     "execution_count": 13,
     "metadata": {},
     "output_type": "execute_result"
    }
   ],
   "source": [
    "# Values and value counts for borders\n",
    "print('The unique values for border are: \\n', df['border'].unique(),'\\n')\n",
    "print('*'*40)\n",
    "print('The value counts are:')\n",
    "df.border.value_counts()"
   ]
  },
  {
   "cell_type": "markdown",
   "metadata": {},
   "source": [
    "Borders:\n",
    "- SBO: South Border\n",
    "- CBO: Costal Border\n",
    "- NBO: Nortern Border"
   ]
  },
  {
   "cell_type": "code",
   "execution_count": 14,
   "metadata": {},
   "outputs": [
    {
     "data": {
      "text/plain": [
       "<AxesSubplot:>"
      ]
     },
     "execution_count": 14,
     "metadata": {},
     "output_type": "execute_result"
    },
    {
     "data": {
      "image/png": "[encoded data removed]",
      "text/plain": [
       "<Figure size 432x288 with 1 Axes>"
      ]
     },
     "metadata": {
      "needs_background": "light"
     },
     "output_type": "display_data"
    }
   ],
   "source": [
    "# Quick plot \n",
    "df.border.value_counts().plot.bar(color = 'green')"
   ]
  },
  {
   "cell_type": "markdown",
   "metadata": {},
   "source": [
    "We see that most of the detentions happened on the southern border. Out of all non-null values, 99.8% of them occurred at SBO. Because we will be focsing on nation-wide detentions, we will be dropping this columns as well."
   ]
  },
  {
   "cell_type": "code",
   "execution_count": 15,
   "metadata": {},
   "outputs": [
    {
     "name": "stdout",
     "output_type": "stream",
     "text": [
      "The unique values for sector are: \n",
      " ['(b)(7)(E )' nan] \n",
      "\n",
      "****************************************\n",
      "The value counts are:\n"
     ]
    },
    {
     "data": {
      "text/plain": [
       "(b)(7)(E )    488818\n",
       "Name: sector, dtype: int64"
      ]
     },
     "execution_count": 15,
     "metadata": {},
     "output_type": "execute_result"
    }
   ],
   "source": [
    "# Values and value counts for sector \n",
    "print('The unique values for sector are: \\n', df['sector'].unique(),'\\n')\n",
    "print('*'*40)\n",
    "print('The value counts are:')\n",
    "df.sector.value_counts()"
   ]
  },
  {
   "cell_type": "code",
   "execution_count": 16,
   "metadata": {},
   "outputs": [
    {
     "name": "stdout",
     "output_type": "stream",
     "text": [
      "The unique values for source are: \n",
      " ['BP' 'OFO'] \n",
      "\n",
      "****************************************\n",
      "The value counts are:\n"
     ]
    },
    {
     "data": {
      "text/plain": [
       "BP     488818\n",
       "OFO     94990\n",
       "Name: source, dtype: int64"
      ]
     },
     "execution_count": 16,
     "metadata": {},
     "output_type": "execute_result"
    }
   ],
   "source": [
    "# Values and value counts\n",
    "print('The unique values for source are: \\n', df['source'].unique(),'\\n')\n",
    "print('*'*40)\n",
    "print('The value counts are:')\n",
    "df.source.value_counts()"
   ]
  },
  {
   "cell_type": "markdown",
   "metadata": {},
   "source": [
    "Data source:\n",
    "- CBP Office of Field Operations (OFO) child detentions: Detentions of children at ports of entry by the U.S. Customs and Border Protection Border Patrol between mid-January of 2017 and late January of 2020.\n",
    "- CBP Border Patrol (BP) child detentions: Detentions of children between ports of entry by the U.S. Customs and Border Protection Office of Field Operations between mid-January of 2017 and mid-June of 2020."
   ]
  },
  {
   "cell_type": "code",
   "execution_count": 17,
   "metadata": {},
   "outputs": [
    {
     "data": {
      "text/plain": [
       "<AxesSubplot:>"
      ]
     },
     "execution_count": 17,
     "metadata": {},
     "output_type": "execute_result"
    },
    {
     "data": {
      "image/png": "[encoded data removed]",
      "text/plain": [
       "<Figure size 432x288 with 1 Axes>"
      ]
     },
     "metadata": {
      "needs_background": "light"
     },
     "output_type": "display_data"
    }
   ],
   "source": [
    "# Quick plot for source variable\n",
    "df.source.value_counts().plot.bar(color = 'green')"
   ]
  },
  {
   "cell_type": "markdown",
   "metadata": {},
   "source": [
    "For the purpose of this analysis we will only be focsing on date_in, date_out, hours_in_custody, age_group, gender, and citizenship columns. "
   ]
  },
  {
   "cell_type": "code",
   "execution_count": 18,
   "metadata": {},
   "outputs": [],
   "source": [
    "# Dropping columns \n",
    "df.drop(['app_date', 'border', 'sector', 'field_office', 'source'], axis=1, inplace=True)"
   ]
  },
  {
   "cell_type": "code",
   "execution_count": 19,
   "metadata": {},
   "outputs": [
    {
     "data": {
      "text/plain": [
       "Index(['date_in', 'date_out', 'hours_in_custody', 'age_group', 'gender',\n",
       "       'citizenship'],\n",
       "      dtype='object')"
      ]
     },
     "execution_count": 19,
     "metadata": {},
     "output_type": "execute_result"
    }
   ],
   "source": [
    "df.columns"
   ]
  },
  {
   "cell_type": "code",
   "execution_count": 20,
   "metadata": {},
   "outputs": [
    {
     "name": "stdout",
     "output_type": "stream",
     "text": [
      "<class 'pandas.core.frame.DataFrame'>\n",
      "RangeIndex: 583808 entries, 0 to 583807\n",
      "Data columns (total 6 columns):\n",
      " #   Column            Non-Null Count   Dtype  \n",
      "---  ------            --------------   -----  \n",
      " 0   date_in           583805 non-null  object \n",
      " 1   date_out          583053 non-null  object \n",
      " 2   hours_in_custody  583093 non-null  float64\n",
      " 3   age_group         583787 non-null  object \n",
      " 4   gender            583802 non-null  object \n",
      " 5   citizenship       583808 non-null  object \n",
      "dtypes: float64(1), object(5)\n",
      "memory usage: 26.7+ MB\n"
     ]
    }
   ],
   "source": [
    "df.info()"
   ]
  },
  {
   "cell_type": "code",
   "execution_count": 21,
   "metadata": {},
   "outputs": [
    {
     "data": {
      "text/plain": [
       "date_in               3\n",
       "date_out            755\n",
       "hours_in_custody    715\n",
       "age_group            21\n",
       "gender                6\n",
       "citizenship           0\n",
       "dtype: int64"
      ]
     },
     "execution_count": 21,
     "metadata": {},
     "output_type": "execute_result"
    }
   ],
   "source": [
    "df.isna().sum()"
   ]
  },
  {
   "cell_type": "code",
   "execution_count": 22,
   "metadata": {},
   "outputs": [
    {
     "data": {
      "text/plain": [
       "(582732, 6)"
      ]
     },
     "execution_count": 22,
     "metadata": {},
     "output_type": "execute_result"
    }
   ],
   "source": [
    "# Dropping rows with nan values\n",
    "df = df.dropna()\n",
    "df.shape"
   ]
  },
  {
   "cell_type": "code",
   "execution_count": 23,
   "metadata": {},
   "outputs": [],
   "source": [
    "# Converting dates to datetime \n",
    "df[['date_in', 'date_out']] = df[['date_in', 'date_out']].apply(pd.to_datetime)"
   ]
  },
  {
   "cell_type": "code",
   "execution_count": 24,
   "metadata": {},
   "outputs": [
    {
     "data": {
      "text/html": [
       "<div>\n",
       "<style scoped>\n",
       "    .dataframe tbody tr th:only-of-type {\n",
       "        vertical-align: middle;\n",
       "    }\n",
       "\n",
       "    .dataframe tbody tr th {\n",
       "        vertical-align: top;\n",
       "    }\n",
       "\n",
       "    .dataframe thead th {\n",
       "        text-align: right;\n",
       "    }\n",
       "</style>\n",
       "<table border=\"1\" class=\"dataframe\">\n",
       "  <thead>\n",
       "    <tr style=\"text-align: right;\">\n",
       "      <th></th>\n",
       "      <th>hours_in_custody</th>\n",
       "    </tr>\n",
       "  </thead>\n",
       "  <tbody>\n",
       "    <tr>\n",
       "      <th>count</th>\n",
       "      <td>582732.000000</td>\n",
       "    </tr>\n",
       "    <tr>\n",
       "      <th>mean</th>\n",
       "      <td>64.835586</td>\n",
       "    </tr>\n",
       "    <tr>\n",
       "      <th>std</th>\n",
       "      <td>54.768272</td>\n",
       "    </tr>\n",
       "    <tr>\n",
       "      <th>min</th>\n",
       "      <td>-13.820000</td>\n",
       "    </tr>\n",
       "    <tr>\n",
       "      <th>25%</th>\n",
       "      <td>31.050000</td>\n",
       "    </tr>\n",
       "    <tr>\n",
       "      <th>50%</th>\n",
       "      <td>53.116667</td>\n",
       "    </tr>\n",
       "    <tr>\n",
       "      <th>75%</th>\n",
       "      <td>85.900000</td>\n",
       "    </tr>\n",
       "    <tr>\n",
       "      <th>max</th>\n",
       "      <td>4902.300000</td>\n",
       "    </tr>\n",
       "  </tbody>\n",
       "</table>\n",
       "</div>"
      ],
      "text/plain": [
       "       hours_in_custody\n",
       "count     582732.000000\n",
       "mean          64.835586\n",
       "std           54.768272\n",
       "min          -13.820000\n",
       "25%           31.050000\n",
       "50%           53.116667\n",
       "75%           85.900000\n",
       "max         4902.300000"
      ]
     },
     "execution_count": 24,
     "metadata": {},
     "output_type": "execute_result"
    }
   ],
   "source": [
    "df.describe()"
   ]
  },
  {
   "cell_type": "markdown",
   "metadata": {},
   "source": [
    "Definitely outliers in the dataset."
   ]
  },
  {
   "cell_type": "code",
   "execution_count": 25,
   "metadata": {},
   "outputs": [],
   "source": [
    "# Converting float to int \n",
    "df['hours_in_custody'] = df['hours_in_custody'].astype(int)"
   ]
  },
  {
   "cell_type": "code",
   "execution_count": 26,
   "metadata": {},
   "outputs": [
    {
     "name": "stderr",
     "output_type": "stream",
     "text": [
      "/Users/karlamuller/opt/miniconda3/lib/python3.8/site-packages/seaborn/distributions.py:2551: FutureWarning: `distplot` is a deprecated function and will be removed in a future version. Please adapt your code to use either `displot` (a figure-level function with similar flexibility) or `histplot` (an axes-level function for histograms).\n",
      "  warnings.warn(msg, FutureWarning)\n"
     ]
    },
    {
     "data": {
      "image/png": "[encoded data removed]",
      "text/plain": [
       "<Figure size 576x432 with 1 Axes>"
      ]
     },
     "metadata": {
      "needs_background": "light"
     },
     "output_type": "display_data"
    }
   ],
   "source": [
    "plt.figure(figsize=(8,6))\n",
    "sns.distplot(df.hours_in_custody)\n",
    "plt.title('Distribution of hours in custody histogram')\n",
    "plt.show()"
   ]
  },
  {
   "cell_type": "code",
   "execution_count": 27,
   "metadata": {},
   "outputs": [
    {
     "name": "stderr",
     "output_type": "stream",
     "text": [
      "/Users/karlamuller/opt/miniconda3/lib/python3.8/site-packages/seaborn/_decorators.py:36: FutureWarning: Pass the following variable as a keyword arg: x. From version 0.12, the only valid positional argument will be `data`, and passing other arguments without an explicit keyword will result in an error or misinterpretation.\n",
      "  warnings.warn(\n"
     ]
    },
    {
     "data": {
      "image/png": "[encoded data removed]",
      "text/plain": [
       "<Figure size 576x432 with 1 Axes>"
      ]
     },
     "metadata": {
      "needs_background": "light"
     },
     "output_type": "display_data"
    }
   ],
   "source": [
    "plt.figure(figsize=(8,6))\n",
    "sns.violinplot(df.hours_in_custody)\n",
    "plt.title('Distribution of hours in custody violin plot')\n",
    "plt.show()"
   ]
  },
  {
   "cell_type": "code",
   "execution_count": 28,
   "metadata": {},
   "outputs": [
    {
     "data": {
      "text/html": [
       "<div>\n",
       "<style scoped>\n",
       "    .dataframe tbody tr th:only-of-type {\n",
       "        vertical-align: middle;\n",
       "    }\n",
       "\n",
       "    .dataframe tbody tr th {\n",
       "        vertical-align: top;\n",
       "    }\n",
       "\n",
       "    .dataframe thead tr th {\n",
       "        text-align: left;\n",
       "    }\n",
       "\n",
       "    .dataframe thead tr:last-of-type th {\n",
       "        text-align: right;\n",
       "    }\n",
       "</style>\n",
       "<table border=\"1\" class=\"dataframe\">\n",
       "  <thead>\n",
       "    <tr>\n",
       "      <th></th>\n",
       "      <th colspan=\"2\" halign=\"left\">hours_in_custody</th>\n",
       "    </tr>\n",
       "    <tr>\n",
       "      <th></th>\n",
       "      <th>mean</th>\n",
       "      <th>count</th>\n",
       "    </tr>\n",
       "    <tr>\n",
       "      <th>age_group</th>\n",
       "      <th></th>\n",
       "      <th></th>\n",
       "    </tr>\n",
       "  </thead>\n",
       "  <tbody>\n",
       "    <tr>\n",
       "      <th>1-2 years</th>\n",
       "      <td>67.154438</td>\n",
       "      <td>53057</td>\n",
       "    </tr>\n",
       "    <tr>\n",
       "      <th>12-14 years</th>\n",
       "      <td>65.864842</td>\n",
       "      <td>78893</td>\n",
       "    </tr>\n",
       "    <tr>\n",
       "      <th>15-18 years</th>\n",
       "      <td>57.168998</td>\n",
       "      <td>190600</td>\n",
       "    </tr>\n",
       "    <tr>\n",
       "      <th>3-5 years</th>\n",
       "      <td>68.506788</td>\n",
       "      <td>91786</td>\n",
       "    </tr>\n",
       "    <tr>\n",
       "      <th>6-8 years</th>\n",
       "      <td>69.282660</td>\n",
       "      <td>85028</td>\n",
       "    </tr>\n",
       "    <tr>\n",
       "      <th>9-11 years</th>\n",
       "      <td>68.307484</td>\n",
       "      <td>68423</td>\n",
       "    </tr>\n",
       "    <tr>\n",
       "      <th>Under 1 year</th>\n",
       "      <td>66.067180</td>\n",
       "      <td>14945</td>\n",
       "    </tr>\n",
       "  </tbody>\n",
       "</table>\n",
       "</div>"
      ],
      "text/plain": [
       "             hours_in_custody        \n",
       "                         mean   count\n",
       "age_group                            \n",
       "1-2 years           67.154438   53057\n",
       "12-14 years         65.864842   78893\n",
       "15-18 years         57.168998  190600\n",
       "3-5 years           68.506788   91786\n",
       "6-8 years           69.282660   85028\n",
       "9-11 years          68.307484   68423\n",
       "Under 1 year        66.067180   14945"
      ]
     },
     "execution_count": 28,
     "metadata": {},
     "output_type": "execute_result"
    }
   ],
   "source": [
    "df.groupby(df.age_group).agg(['mean','count'])"
   ]
  },
  {
   "cell_type": "code",
   "execution_count": 29,
   "metadata": {},
   "outputs": [
    {
     "data": {
      "text/plain": [
       "<AxesSubplot:title={'center':'Age Group Count'}, xlabel='age_group'>"
      ]
     },
     "execution_count": 29,
     "metadata": {},
     "output_type": "execute_result"
    },
    {
     "data": {
      "image/png": "[encoded data removed]",
      "text/plain": [
       "<Figure size 432x288 with 1 Axes>"
      ]
     },
     "metadata": {
      "needs_background": "light"
     },
     "output_type": "display_data"
    }
   ],
   "source": [
    "df_agegroup = df.groupby(['age_group'])['hours_in_custody'].count()\n",
    "df_agegroup.plot.bar(color = 'violet', title='Age Group Count')"
   ]
  },
  {
   "cell_type": "code",
   "execution_count": 30,
   "metadata": {},
   "outputs": [
    {
     "data": {
      "text/html": [
       "<div>\n",
       "<style scoped>\n",
       "    .dataframe tbody tr th:only-of-type {\n",
       "        vertical-align: middle;\n",
       "    }\n",
       "\n",
       "    .dataframe tbody tr th {\n",
       "        vertical-align: top;\n",
       "    }\n",
       "\n",
       "    .dataframe thead tr th {\n",
       "        text-align: left;\n",
       "    }\n",
       "\n",
       "    .dataframe thead tr:last-of-type th {\n",
       "        text-align: right;\n",
       "    }\n",
       "</style>\n",
       "<table border=\"1\" class=\"dataframe\">\n",
       "  <thead>\n",
       "    <tr>\n",
       "      <th></th>\n",
       "      <th colspan=\"2\" halign=\"left\">hours_in_custody</th>\n",
       "    </tr>\n",
       "    <tr>\n",
       "      <th></th>\n",
       "      <th>mean</th>\n",
       "      <th>count</th>\n",
       "    </tr>\n",
       "    <tr>\n",
       "      <th>citizenship</th>\n",
       "      <th></th>\n",
       "      <th></th>\n",
       "    </tr>\n",
       "  </thead>\n",
       "  <tbody>\n",
       "    <tr>\n",
       "      <th>AFGHANISTAN</th>\n",
       "      <td>75.800000</td>\n",
       "      <td>5</td>\n",
       "    </tr>\n",
       "    <tr>\n",
       "      <th>ALBANIA</th>\n",
       "      <td>74.066667</td>\n",
       "      <td>15</td>\n",
       "    </tr>\n",
       "    <tr>\n",
       "      <th>ANGOLA</th>\n",
       "      <td>62.228145</td>\n",
       "      <td>469</td>\n",
       "    </tr>\n",
       "    <tr>\n",
       "      <th>ARGENTINA</th>\n",
       "      <td>45.944444</td>\n",
       "      <td>18</td>\n",
       "    </tr>\n",
       "    <tr>\n",
       "      <th>ARMENIA</th>\n",
       "      <td>82.701711</td>\n",
       "      <td>409</td>\n",
       "    </tr>\n",
       "    <tr>\n",
       "      <th>...</th>\n",
       "      <td>...</td>\n",
       "      <td>...</td>\n",
       "    </tr>\n",
       "    <tr>\n",
       "      <th>URUGUAY</th>\n",
       "      <td>40.038462</td>\n",
       "      <td>26</td>\n",
       "    </tr>\n",
       "    <tr>\n",
       "      <th>UZBEKISTAN</th>\n",
       "      <td>48.971530</td>\n",
       "      <td>562</td>\n",
       "    </tr>\n",
       "    <tr>\n",
       "      <th>VENEZUELA</th>\n",
       "      <td>43.762245</td>\n",
       "      <td>3634</td>\n",
       "    </tr>\n",
       "    <tr>\n",
       "      <th>VIETNAM</th>\n",
       "      <td>77.382222</td>\n",
       "      <td>450</td>\n",
       "    </tr>\n",
       "    <tr>\n",
       "      <th>YEMEN</th>\n",
       "      <td>60.250000</td>\n",
       "      <td>4</td>\n",
       "    </tr>\n",
       "  </tbody>\n",
       "</table>\n",
       "<p>111 rows × 2 columns</p>\n",
       "</div>"
      ],
      "text/plain": [
       "            hours_in_custody      \n",
       "                        mean count\n",
       "citizenship                       \n",
       "AFGHANISTAN        75.800000     5\n",
       "ALBANIA            74.066667    15\n",
       "ANGOLA             62.228145   469\n",
       "ARGENTINA          45.944444    18\n",
       "ARMENIA            82.701711   409\n",
       "...                      ...   ...\n",
       "URUGUAY            40.038462    26\n",
       "UZBEKISTAN         48.971530   562\n",
       "VENEZUELA          43.762245  3634\n",
       "VIETNAM            77.382222   450\n",
       "YEMEN              60.250000     4\n",
       "\n",
       "[111 rows x 2 columns]"
      ]
     },
     "execution_count": 30,
     "metadata": {},
     "output_type": "execute_result"
    }
   ],
   "source": [
    "df.groupby(df.citizenship).agg(['mean','count'])"
   ]
  },
  {
   "cell_type": "code",
   "execution_count": null,
   "metadata": {},
   "outputs": [],
   "source": []
  },
  {
   "cell_type": "code",
   "execution_count": 32,
   "metadata": {},
   "outputs": [
    {
     "data": {
      "text/html": [
       "<div>\n",
       "<style scoped>\n",
       "    .dataframe tbody tr th:only-of-type {\n",
       "        vertical-align: middle;\n",
       "    }\n",
       "\n",
       "    .dataframe tbody tr th {\n",
       "        vertical-align: top;\n",
       "    }\n",
       "\n",
       "    .dataframe thead th {\n",
       "        text-align: right;\n",
       "    }\n",
       "</style>\n",
       "<table border=\"1\" class=\"dataframe\">\n",
       "  <thead>\n",
       "    <tr style=\"text-align: right;\">\n",
       "      <th></th>\n",
       "      <th>citizenship</th>\n",
       "      <th>count</th>\n",
       "    </tr>\n",
       "  </thead>\n",
       "  <tbody>\n",
       "    <tr>\n",
       "      <th>0</th>\n",
       "      <td>GUATEMALA</td>\n",
       "      <td>211490</td>\n",
       "    </tr>\n",
       "    <tr>\n",
       "      <th>1</th>\n",
       "      <td>HONDURAS</td>\n",
       "      <td>173297</td>\n",
       "    </tr>\n",
       "    <tr>\n",
       "      <th>2</th>\n",
       "      <td>MEXICO</td>\n",
       "      <td>86456</td>\n",
       "    </tr>\n",
       "    <tr>\n",
       "      <th>3</th>\n",
       "      <td>EL SALVADOR</td>\n",
       "      <td>68479</td>\n",
       "    </tr>\n",
       "    <tr>\n",
       "      <th>4</th>\n",
       "      <td>BRAZIL</td>\n",
       "      <td>13767</td>\n",
       "    </tr>\n",
       "    <tr>\n",
       "      <th>5</th>\n",
       "      <td>NICARAGUA</td>\n",
       "      <td>5529</td>\n",
       "    </tr>\n",
       "    <tr>\n",
       "      <th>6</th>\n",
       "      <td>ECUADOR</td>\n",
       "      <td>5394</td>\n",
       "    </tr>\n",
       "    <tr>\n",
       "      <th>7</th>\n",
       "      <td>VENEZUELA</td>\n",
       "      <td>3634</td>\n",
       "    </tr>\n",
       "    <tr>\n",
       "      <th>8</th>\n",
       "      <td>CUBA</td>\n",
       "      <td>3069</td>\n",
       "    </tr>\n",
       "    <tr>\n",
       "      <th>9</th>\n",
       "      <td>INDIA</td>\n",
       "      <td>2030</td>\n",
       "    </tr>\n",
       "    <tr>\n",
       "      <th>10</th>\n",
       "      <td>HAITI</td>\n",
       "      <td>1201</td>\n",
       "    </tr>\n",
       "    <tr>\n",
       "      <th>11</th>\n",
       "      <td>ROMANIA</td>\n",
       "      <td>917</td>\n",
       "    </tr>\n",
       "    <tr>\n",
       "      <th>12</th>\n",
       "      <td>RUSSIA</td>\n",
       "      <td>677</td>\n",
       "    </tr>\n",
       "    <tr>\n",
       "      <th>13</th>\n",
       "      <td>UZBEKISTAN</td>\n",
       "      <td>562</td>\n",
       "    </tr>\n",
       "    <tr>\n",
       "      <th>14</th>\n",
       "      <td>DEMOCRATIC REPUBLIC OF CONGO (ZAIRE)</td>\n",
       "      <td>557</td>\n",
       "    </tr>\n",
       "    <tr>\n",
       "      <th>15</th>\n",
       "      <td>CHILE</td>\n",
       "      <td>527</td>\n",
       "    </tr>\n",
       "    <tr>\n",
       "      <th>16</th>\n",
       "      <td>PERU</td>\n",
       "      <td>494</td>\n",
       "    </tr>\n",
       "    <tr>\n",
       "      <th>17</th>\n",
       "      <td>BANGLADESH</td>\n",
       "      <td>478</td>\n",
       "    </tr>\n",
       "    <tr>\n",
       "      <th>18</th>\n",
       "      <td>ANGOLA</td>\n",
       "      <td>469</td>\n",
       "    </tr>\n",
       "    <tr>\n",
       "      <th>19</th>\n",
       "      <td>VIETNAM</td>\n",
       "      <td>450</td>\n",
       "    </tr>\n",
       "  </tbody>\n",
       "</table>\n",
       "</div>"
      ],
      "text/plain": [
       "                             citizenship   count\n",
       "0                              GUATEMALA  211490\n",
       "1                               HONDURAS  173297\n",
       "2                                 MEXICO   86456\n",
       "3                            EL SALVADOR   68479\n",
       "4                                 BRAZIL   13767\n",
       "5                              NICARAGUA    5529\n",
       "6                                ECUADOR    5394\n",
       "7                              VENEZUELA    3634\n",
       "8                                   CUBA    3069\n",
       "9                                  INDIA    2030\n",
       "10                                 HAITI    1201\n",
       "11                               ROMANIA     917\n",
       "12                                RUSSIA     677\n",
       "13                            UZBEKISTAN     562\n",
       "14  DEMOCRATIC REPUBLIC OF CONGO (ZAIRE)     557\n",
       "15                                 CHILE     527\n",
       "16                                  PERU     494\n",
       "17                            BANGLADESH     478\n",
       "18                                ANGOLA     469\n",
       "19                               VIETNAM     450"
      ]
     },
     "execution_count": 32,
     "metadata": {},
     "output_type": "execute_result"
    }
   ],
   "source": [
    "# Dataframe of counts and mean for each country\n",
    "df_citizen = pd.DataFrame({'count': df.groupby(['citizenship']).size()})\n",
    "df_citizen = df_citizen.sort_values(by='count', ascending=False).reset_index()\n",
    "df_citizen = df_citizen[:20]\n",
    "df_citizen"
   ]
  },
  {
   "cell_type": "code",
   "execution_count": 33,
   "metadata": {},
   "outputs": [
    {
     "data": {
      "text/plain": [
       "<AxesSubplot:xlabel='citizenship'>"
      ]
     },
     "execution_count": 33,
     "metadata": {},
     "output_type": "execute_result"
    },
    {
     "data": {
      "image/png": "[encoded data removed]",
      "text/plain": [
       "<Figure size 432x288 with 1 Axes>"
      ]
     },
     "metadata": {
      "needs_background": "light"
     },
     "output_type": "display_data"
    }
   ],
   "source": [
    "# Plotting this above result \n",
    "df_citizen.plot.bar(x='citizenship')"
   ]
  },
  {
   "cell_type": "code",
   "execution_count": null,
   "metadata": {},
   "outputs": [],
   "source": []
  }
 ],
 "metadata": {
  "kernelspec": {
   "display_name": "Python 3",
   "language": "python",
   "name": "python3"
  },
  "language_info": {
   "codemirror_mode": {
    "name": "ipython",
    "version": 3
   },
   "file_extension": ".py",
   "mimetype": "text/x-python",
   "name": "python",
   "nbconvert_exporter": "python",
   "pygments_lexer": "ipython3",
   "version": "3.8.5"
  }
 },
 "nbformat": 4,
 "nbformat_minor": 4
}
